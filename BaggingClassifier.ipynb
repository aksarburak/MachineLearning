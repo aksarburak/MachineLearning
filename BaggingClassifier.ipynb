{
 "cells": [
  {
   "cell_type": "code",
   "execution_count": 3,
   "metadata": {},
   "outputs": [
    {
     "name": "stdout",
     "output_type": "stream",
     "text": [
      "# Estimator: 110, Max Sample: 0.250000, Max Features: 30, Bootstrap: True, Bootstrap Features: False, CCR: 0.665433\n",
      "Elapsed time is 64.92782163619995\n",
      "# Estimator: 110, Max Sample: 0.500000, Max Features: 30, Bootstrap: True, Bootstrap Features: False, CCR: 0.662049\n",
      "Elapsed time is 177.68603610992432\n",
      "# Estimator: 110, Max Sample: 1.000000, Max Features: 30, Bootstrap: True, Bootstrap Features: False, CCR: 0.661133\n",
      "Elapsed time is 362.13629698753357\n",
      "0.66543261479668 0.6620489241854263 0.6611333373141458\n",
      "Elapsed time is 362.13629698753357\n"
     ]
    }
   ],
   "source": [
    "import numpy as np\n",
    "\n",
    "from sklearn.base import BaseEstimator\n",
    "\n",
    "from sklearn.utils.testing import assert_array_equal\n",
    "from sklearn.utils.testing import assert_array_almost_equal\n",
    "from sklearn.utils.testing import assert_equal\n",
    "from sklearn.utils.testing import assert_raises\n",
    "from sklearn.utils.testing import assert_greater\n",
    "from sklearn.utils.testing import assert_less\n",
    "from sklearn.utils.testing import assert_true\n",
    "from sklearn.utils.testing import assert_false\n",
    "from sklearn.utils.testing import assert_warns\n",
    "from sklearn.utils.testing import assert_warns_message\n",
    "\n",
    "from sklearn.dummy import DummyClassifier, DummyRegressor\n",
    "from sklearn.model_selection import GridSearchCV, ParameterGrid\n",
    "from sklearn.ensemble import BaggingClassifier, BaggingRegressor\n",
    "from sklearn.linear_model import Perceptron, LogisticRegression\n",
    "from sklearn.neighbors import KNeighborsClassifier, KNeighborsRegressor\n",
    "from sklearn.tree import DecisionTreeClassifier, DecisionTreeRegressor\n",
    "from sklearn.svm import SVC, SVR, LinearSVC\n",
    "from sklearn.naive_bayes import GaussianNB\n",
    "\n",
    "\n",
    "from sklearn import svm\n",
    "from sklearn.pipeline import make_pipeline\n",
    "from sklearn.feature_selection import SelectKBest\n",
    "from sklearn.model_selection import train_test_split\n",
    "from sklearn.datasets import load_boston, load_iris, make_hastie_10_2\n",
    "from sklearn.utils import check_random_state\n",
    "\n",
    "from scipy.sparse import csc_matrix, csr_matrix\n",
    "from sklearn.model_selection import train_test_split\n",
    "import csv \n",
    "import pandas\n",
    "import time\n",
    "\n",
    "\n",
    "\n",
    "rng = check_random_state(0)\n",
    "\n",
    "#Loading the data\n",
    "header_reader = csv.reader(open(\"./Matlab_Files/joined_shots_2013.csv\",'r'),delimiter = ',')\n",
    "headers = set(next(header_reader))\n",
    "#print (headers)\n",
    "\n",
    "#main_reader = csv.reader(open(\"./Matlab_Files/joined_shots_updated2013.csv\",'r'),delimiter = ',')\n",
    "dataframe = pandas.read_csv(\"./Matlab_Files/joined_shots_updated2013.csv\",delimiter = ',',header =None)\n",
    "array = dataframe.values\n",
    "\n",
    "testing = pandas.read_csv(\"./Matlab_Files/joined_shots_updated2014.csv\",delimiter = ',',header =None)\n",
    "real_test = testing.values\n",
    "\n",
    "X_real_test = real_test[0:200532,0:30]\n",
    "Y_real_test = real_test[0:200532,31]\n",
    "\n",
    "column_len = len(dataframe.columns)\n",
    "columns = dataframe.columns\n",
    "\n",
    "X = array[0:200961,0:30]\n",
    "Y = array[0:200961,31]\n",
    "\n",
    "\n",
    "# Check classification for various parameter settings.\n",
    "rng = check_random_state(0)\n",
    "X_train, X_test, y_train, y_test = train_test_split(X,\n",
    "                                                    Y,\n",
    "                                                    random_state=rng)\n",
    "grid = ParameterGrid({\"n_estimators\":[110],\n",
    "                      \"max_samples\": [0.25, 0.5, 1.0],\n",
    "                      \"max_features\": [30],\n",
    "                      \"bootstrap\": [True],\n",
    "                      \"bootstrap_features\": [False]\n",
    "                      })\n",
    "result = []\n",
    "##,KNeighborsClassifier(),SVC(),LinearSVC(),GaussianNB()\n",
    "start = time.time()\n",
    "for base_estimator in [DecisionTreeClassifier()]:\n",
    "   \n",
    "    for params in grid:\n",
    "            predicted_labels = BaggingClassifier(base_estimator=base_estimator,\n",
    "                              random_state=rng,\n",
    "                              **params).fit(X_train, y_train).predict(X_test)\n",
    "            \n",
    "            \n",
    "            count=0\n",
    "            for i in range(len(y_test)):\n",
    "                if predicted_labels[i]==y_test[i]:\n",
    "                    count=count+1\n",
    "\n",
    "            brk = count/(len(y_test)) \n",
    "    \n",
    "            result.append(brk) \n",
    "            print(\"# Estimator: %d, Max Sample: %f, Max Features: %d, Bootstrap: %s, Bootstrap Features: %s, CCR: %f\" %(params[\"n_estimators\"],params[\"max_samples\"],params[\"max_features\"],params[\"bootstrap\"],params[\"bootstrap_features\"],brk))\n",
    "            end = time.time()\n",
    "            print(\"Elapsed time is\", (end - start))\n",
    "    \n",
    "    \n",
    "print(*result)\n",
    "end = time.time()\n",
    "print(\"Elapsed time is\", (end - start))"
   ]
  },
  {
   "cell_type": "code",
   "execution_count": null,
   "metadata": {},
   "outputs": [],
   "source": []
  }
 ],
 "metadata": {
  "kernelspec": {
   "display_name": "Python 3",
   "language": "python",
   "name": "python3"
  },
  "language_info": {
   "codemirror_mode": {
    "name": "ipython",
    "version": 3
   },
   "file_extension": ".py",
   "mimetype": "text/x-python",
   "name": "python",
   "nbconvert_exporter": "python",
   "pygments_lexer": "ipython3",
   "version": "3.6.6"
  },
  "varInspector": {
   "cols": {
    "lenName": 16,
    "lenType": 16,
    "lenVar": 40
   },
   "kernels_config": {
    "python": {
     "delete_cmd_postfix": "",
     "delete_cmd_prefix": "del ",
     "library": "var_list.py",
     "varRefreshCmd": "print(var_dic_list())"
    },
    "r": {
     "delete_cmd_postfix": ") ",
     "delete_cmd_prefix": "rm(",
     "library": "var_list.r",
     "varRefreshCmd": "cat(var_dic_list()) "
    }
   },
   "oldHeight": 431,
   "position": {
    "height": "293px",
    "left": "871px",
    "right": "20px",
    "top": "203px",
    "width": "507px"
   },
   "types_to_exclude": [
    "module",
    "function",
    "builtin_function_or_method",
    "instance",
    "_Feature"
   ],
   "varInspector_section_display": "none",
   "window_display": false
  }
 },
 "nbformat": 4,
 "nbformat_minor": 2
}
