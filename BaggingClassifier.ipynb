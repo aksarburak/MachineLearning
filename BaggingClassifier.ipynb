{
 "cells": [
  {
   "cell_type": "code",
   "execution_count": 176,
   "metadata": {},
   "outputs": [
    {
     "name": "stdout",
     "output_type": "stream",
     "text": [
      "0.014755197853789403 0.02012072434607646\n",
      "Elapsed time is 10.117991924285889\n"
     ]
    }
   ],
   "source": [
    "import numpy as np\n",
    "\n",
    "from sklearn.base import BaseEstimator\n",
    "\n",
    "from sklearn.utils.testing import assert_array_equal\n",
    "from sklearn.utils.testing import assert_array_almost_equal\n",
    "from sklearn.utils.testing import assert_equal\n",
    "from sklearn.utils.testing import assert_raises\n",
    "from sklearn.utils.testing import assert_greater\n",
    "from sklearn.utils.testing import assert_less\n",
    "from sklearn.utils.testing import assert_true\n",
    "from sklearn.utils.testing import assert_false\n",
    "from sklearn.utils.testing import assert_warns\n",
    "from sklearn.utils.testing import assert_warns_message\n",
    "\n",
    "from sklearn.dummy import DummyClassifier, DummyRegressor\n",
    "from sklearn.model_selection import GridSearchCV, ParameterGrid\n",
    "from sklearn.ensemble import BaggingClassifier, BaggingRegressor\n",
    "from sklearn.linear_model import Perceptron, LogisticRegression\n",
    "from sklearn.neighbors import KNeighborsClassifier, KNeighborsRegressor\n",
    "from sklearn.tree import DecisionTreeClassifier, DecisionTreeRegressor\n",
    "from sklearn.svm import SVC, SVR\n",
    "from sklearn import svm\n",
    "from sklearn.pipeline import make_pipeline\n",
    "from sklearn.feature_selection import SelectKBest\n",
    "from sklearn.model_selection import train_test_split\n",
    "from sklearn.datasets import load_boston, load_iris, make_hastie_10_2\n",
    "from sklearn.utils import check_random_state\n",
    "\n",
    "from scipy.sparse import csc_matrix, csr_matrix\n",
    "from sklearn.model_selection import train_test_split\n",
    "import csv \n",
    "import time\n",
    "\n",
    "\n",
    "start = time.time()\n",
    "\n",
    "rng = check_random_state(0)\n",
    "\n",
    "\n",
    "#Loading the data\n",
    "header_reader = csv.reader(open(\"./Matlab_Files/joined_shots_2013.csv\",'r'),delimiter = ',')\n",
    "headers = set(next(header_reader))\n",
    "#print (headers)\n",
    "\n",
    "#main_reader = csv.reader(open(\"./Matlab_Files/joined_shots_updated2013.csv\",'r'),delimiter = ',')\n",
    "dataframe = pandas.read_csv(\"./Matlab_Files/joined_shots_updated2013.csv\",delimiter = ',',header =None)\n",
    "array = dataframe.values\n",
    "\n",
    "column_len = len(dataframe.columns)\n",
    "columns = dataframe.columns\n",
    "\n",
    "X = array[0:200961,0:30]\n",
    "Y = array[0:200961,31]\n",
    "\n",
    "\n",
    "# Check classification for various parameter settings.\n",
    "rng = check_random_state(0)\n",
    "X_train, X_test, y_train, y_test = train_test_split(X,\n",
    "                                                    Y,\n",
    "                                                    random_state=rng)\n",
    "grid = ParameterGrid({\"max_samples\": [0.5, 1.0],\n",
    "                      \"max_features\": [1, 2, 4],\n",
    "                      \"bootstrap\": [True, False],\n",
    "                      \"bootstrap_features\": [True, False]})\n",
    "result = []\n",
    "\n",
    "for base_estimator in [DecisionTreeClassifier(),KNeighborsClassifier()]:\n",
    "   \n",
    "    for params in grid:\n",
    "            predicted_labels = BaggingClassifier(base_estimator=base_estimator,\n",
    "                              random_state=rng,\n",
    "                              **params).fit(X_train, y_train).predict(X_test)\n",
    "            \n",
    "            \n",
    "            count=0;\n",
    "            for i in range(len(y_test)):\n",
    "                if predicted_labels[i]==y_test[i]:\n",
    "                    count=count+1\n",
    "\n",
    "            brk = count/(len(y_test)) \n",
    "    \n",
    "    result.append(brk) \n",
    "    \n",
    "    \n",
    "    \n",
    "    \n",
    "\n",
    "print(*result)\n",
    "end = time.time()\n",
    "print(\"Elapsed time is\", (end - start))\n",
    "\n",
    "        "
   ]
  },
  {
   "cell_type": "code",
   "execution_count": null,
   "metadata": {},
   "outputs": [],
   "source": []
  },
  {
   "cell_type": "code",
   "execution_count": null,
   "metadata": {},
   "outputs": [],
   "source": []
  }
 ],
 "metadata": {
  "kernelspec": {
   "display_name": "Python 3",
   "language": "python",
   "name": "python3"
  },
  "language_info": {
   "codemirror_mode": {
    "name": "ipython",
    "version": 3
   },
   "file_extension": ".py",
   "mimetype": "text/x-python",
   "name": "python",
   "nbconvert_exporter": "python",
   "pygments_lexer": "ipython3",
   "version": "3.6.6"
  },
  "varInspector": {
   "cols": {
    "lenName": 16,
    "lenType": 16,
    "lenVar": 40
   },
   "kernels_config": {
    "python": {
     "delete_cmd_postfix": "",
     "delete_cmd_prefix": "del ",
     "library": "var_list.py",
     "varRefreshCmd": "print(var_dic_list())"
    },
    "r": {
     "delete_cmd_postfix": ") ",
     "delete_cmd_prefix": "rm(",
     "library": "var_list.r",
     "varRefreshCmd": "cat(var_dic_list()) "
    }
   },
   "oldHeight": 431,
   "position": {
    "height": "290px",
    "left": "887px",
    "right": "20px",
    "top": "341px",
    "width": "542px"
   },
   "types_to_exclude": [
    "module",
    "function",
    "builtin_function_or_method",
    "instance",
    "_Feature"
   ],
   "varInspector_section_display": "none",
   "window_display": false
  }
 },
 "nbformat": 4,
 "nbformat_minor": 2
}
