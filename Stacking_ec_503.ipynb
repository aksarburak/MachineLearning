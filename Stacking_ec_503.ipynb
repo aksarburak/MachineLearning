{
 "cells": [
  {
   "cell_type": "code",
   "execution_count": 87,
   "metadata": {},
   "outputs": [],
   "source": [
    "import numpy as np\n",
    "\n",
    "from sklearn.base import BaseEstimator\n",
    "\n",
    "from sklearn.utils.testing import assert_array_equal\n",
    "from sklearn.utils.testing import assert_array_almost_equal\n",
    "from sklearn.utils.testing import assert_equal\n",
    "from sklearn.utils.testing import assert_raises\n",
    "from sklearn.utils.testing import assert_greater\n",
    "from sklearn.utils.testing import assert_less\n",
    "from sklearn.utils.testing import assert_true\n",
    "from sklearn.utils.testing import assert_false\n",
    "from sklearn.utils.testing import assert_warns\n",
    "from sklearn.utils.testing import assert_warns_message\n",
    "\n",
    "from sklearn.dummy import DummyClassifier, DummyRegressor\n",
    "from sklearn.model_selection import GridSearchCV, ParameterGrid\n",
    "from sklearn.ensemble import BaggingClassifier, BaggingRegressor\n",
    "from sklearn.linear_model import Perceptron, LogisticRegression\n",
    "from sklearn.neighbors import KNeighborsClassifier, KNeighborsRegressor\n",
    "from sklearn.tree import DecisionTreeClassifier, DecisionTreeRegressor\n",
    "from sklearn.svm import SVC, SVR, LinearSVC\n",
    "from sklearn.naive_bayes import GaussianNB\n",
    "\n",
    "\n",
    "from sklearn import svm\n",
    "from sklearn.pipeline import make_pipeline\n",
    "from sklearn.feature_selection import SelectKBest\n",
    "from sklearn.model_selection import train_test_split\n",
    "from sklearn.datasets import load_boston, load_iris, make_hastie_10_2\n",
    "from sklearn.utils import check_random_state\n",
    "\n",
    "from scipy.sparse import csc_matrix, csr_matrix\n",
    "from sklearn.model_selection import train_test_split\n",
    "from sklearn.model_selection import StratifiedKFold\n",
    "from sklearn.discriminant_analysis import QuadraticDiscriminantAnalysis\n",
    "import csv \n",
    "import pandas\n",
    "import time\n",
    "\n",
    "\n",
    "start = time.time()\n",
    "rng = check_random_state(0)\n",
    "\n",
    "#Loading the data\n",
    "header_reader = csv.reader(open(\"./Matlab_Files/joined_shots_2013.csv\",'r'),delimiter = ',')\n",
    "headers = set(next(header_reader))\n",
    "#print (headers)\n",
    "\n",
    "#main_reader = csv.reader(open(\"./Matlab_Files/joined_shots_updated2013.csv\",'r'),delimiter = ',')\n",
    "dataframe = pandas.read_csv(\"./Matlab_Files/joined_shots_updated2013.csv\",delimiter = ',',header =None)\n",
    "array = dataframe.values\n",
    "\n",
    "column_len = len(dataframe.columns)\n",
    "columns = dataframe.columns\n",
    "\n",
    "X = array[0:200961,0:30]\n",
    "Y = array[0:200961,31]\n",
    "\n",
    "\n",
    "# Check classification for various parameter settings.\n",
    "rng = check_random_state(0)\n",
    "X_train, X_test, y_train, y_test = train_test_split(X,\n",
    "                                                    Y,\n",
    "                                                    random_state=rng)"
   ]
  },
  {
   "cell_type": "code",
   "execution_count": 88,
   "metadata": {},
   "outputs": [],
   "source": [
    "def Stacking(model,train,y,test,n_fold):\n",
    "   folds=StratifiedKFold(n_splits=n_fold,random_state=1)\n",
    "   test_pred=np.empty((test.shape[0],1),float)\n",
    "   train_pred=np.empty((0,1),float)\n",
    "   for train_indices,val_indices in folds.split(train,y):\n",
    "      x_train,x_val=train[train_indices],train[val_indices]\n",
    "      y_train,y_val=y[train_indices],y[val_indices]\n",
    "\n",
    "      model.fit(X=x_train,y=y_train)\n",
    "      train_pred=np.append(train_pred,model.predict(x_val))\n",
    "      test_pred=np.append(test_pred,model.predict(test))\n",
    "   return test_pred.reshape(-1,1),train_pred\n"
   ]
  },
  {
   "cell_type": "code",
   "execution_count": 89,
   "metadata": {},
   "outputs": [],
   "source": [
    "model1 = DecisionTreeClassifier(random_state=1)\n",
    "\n",
    "test_pred1 ,train_pred1=Stacking(model=model1, train=X_train,y=y_train,test=X_test,n_fold=10)\n",
    "\n",
    "train_pred1=pandas.DataFrame(train_pred1)\n",
    "test_pred1=pandas.DataFrame(test_pred1)"
   ]
  },
  {
   "cell_type": "code",
   "execution_count": 97,
   "metadata": {},
   "outputs": [],
   "source": [
    "model2 = KNeighborsClassifier()\n",
    "\n",
    "test_pred2 ,train_pred2=Stacking(model=model2,train=X_train,y=y_train,test=X_test,n_fold=10)\n",
    "\n",
    "train_pred2=pandas.DataFrame(train_pred2)\n",
    "test_pred2=pandas.DataFrame(test_pred2)"
   ]
  },
  {
   "cell_type": "code",
   "execution_count": 91,
   "metadata": {},
   "outputs": [
    {
     "name": "stderr",
     "output_type": "stream",
     "text": [
      "C:\\Users\\mcokb\\Anaconda3\\lib\\site-packages\\sklearn\\discriminant_analysis.py:682: UserWarning: Variables are collinear\n",
      "  warnings.warn(\"Variables are collinear\")\n"
     ]
    }
   ],
   "source": [
    "model3 = QuadraticDiscriminantAnalysis()\n",
    "\n",
    "test_pred3 ,train_pred3=Stacking(model=model3,train=X_train,y=y_train,test=X_test,n_fold=10)\n",
    "\n",
    "train_pred3=pandas.DataFrame(train_pred3)\n",
    "test_pred3=pandas.DataFrame(test_pred3)"
   ]
  },
  {
   "cell_type": "code",
   "execution_count": 94,
   "metadata": {},
   "outputs": [],
   "source": [
    "temp=y_test\n",
    "for x in range(0, 10):\n",
    "    y_test=np.append(y_test,temp)\n"
   ]
  },
  {
   "cell_type": "code",
   "execution_count": 98,
   "metadata": {},
   "outputs": [
    {
     "data": {
      "text/plain": [
       "0.6111813784829847"
      ]
     },
     "execution_count": 98,
     "metadata": {},
     "output_type": "execute_result"
    }
   ],
   "source": [
    "df = pandas.concat([train_pred1, train_pred2, train_pred3], axis=1)\n",
    "df_test = pandas.concat([test_pred1, test_pred2, test_pred3], axis=1)\n",
    "\n",
    "model = LogisticRegression(random_state=1)\n",
    "model.fit(df,y_train)\n",
    "model.score(df_test, y_test)"
   ]
  },
  {
   "cell_type": "code",
   "execution_count": 58,
   "metadata": {},
   "outputs": [
    {
     "name": "stdout",
     "output_type": "stream",
     "text": [
      "(50241,)\n"
     ]
    }
   ],
   "source": [
    "print(y_test.shape)"
   ]
  },
  {
   "cell_type": "code",
   "execution_count": 74,
   "metadata": {},
   "outputs": [
    {
     "name": "stdout",
     "output_type": "stream",
     "text": [
      "(602892,)\n"
     ]
    }
   ],
   "source": [
    "print(y_test.shape)\n"
   ]
  }
 ],
 "metadata": {
  "kernelspec": {
   "display_name": "Python 3",
   "language": "python",
   "name": "python3"
  },
  "language_info": {
   "codemirror_mode": {
    "name": "ipython",
    "version": 3
   },
   "file_extension": ".py",
   "mimetype": "text/x-python",
   "name": "python",
   "nbconvert_exporter": "python",
   "pygments_lexer": "ipython3",
   "version": "3.7.0"
  }
 },
 "nbformat": 4,
 "nbformat_minor": 2
}
