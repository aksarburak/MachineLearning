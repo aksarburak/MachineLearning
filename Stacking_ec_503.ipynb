{
 "cells": [
  {
   "cell_type": "code",
   "execution_count": 102,
   "metadata": {},
   "outputs": [],
   "source": [
    "import numpy as np\n",
    "\n",
    "from sklearn.base import BaseEstimator\n",
    "\n",
    "from sklearn.utils.testing import assert_array_equal\n",
    "from sklearn.utils.testing import assert_array_almost_equal\n",
    "from sklearn.utils.testing import assert_equal\n",
    "from sklearn.utils.testing import assert_raises\n",
    "from sklearn.utils.testing import assert_greater\n",
    "from sklearn.utils.testing import assert_less\n",
    "from sklearn.utils.testing import assert_true\n",
    "from sklearn.utils.testing import assert_false\n",
    "from sklearn.utils.testing import assert_warns\n",
    "from sklearn.utils.testing import assert_warns_message\n",
    "\n",
    "from sklearn.dummy import DummyClassifier, DummyRegressor\n",
    "from sklearn.model_selection import GridSearchCV, ParameterGrid\n",
    "from sklearn.ensemble import BaggingClassifier, BaggingRegressor\n",
    "from sklearn.linear_model import Perceptron, LogisticRegression\n",
    "from sklearn.neighbors import KNeighborsClassifier, KNeighborsRegressor\n",
    "from sklearn.tree import DecisionTreeClassifier, DecisionTreeRegressor\n",
    "from sklearn.svm import SVC, SVR, LinearSVC\n",
    "from sklearn.naive_bayes import GaussianNB\n",
    "\n",
    "\n",
    "from sklearn import svm\n",
    "from sklearn.pipeline import make_pipeline\n",
    "from sklearn.feature_selection import SelectKBest\n",
    "from sklearn.model_selection import train_test_split\n",
    "from sklearn.datasets import load_boston, load_iris, make_hastie_10_2\n",
    "from sklearn.utils import check_random_state\n",
    "\n",
    "from scipy.sparse import csc_matrix, csr_matrix\n",
    "from sklearn.model_selection import train_test_split\n",
    "from sklearn.model_selection import StratifiedKFold\n",
    "from sklearn.discriminant_analysis import QuadraticDiscriminantAnalysis\n",
    "from sklearn.gaussian_process import GaussianProcessClassifier\n",
    "from sklearn.gaussian_process.kernels import RBF\n",
    "import csv \n",
    "import pandas\n",
    "import time\n",
    "\n",
    "\n",
    "start = time.time()\n",
    "rng = check_random_state(0)\n",
    "\n",
    "#Loading the data\n",
    "header_reader = csv.reader(open(\"./Matlab_Files/joined_shots_2013.csv\",'r'),delimiter = ',')\n",
    "headers = set(next(header_reader))\n",
    "#print (headers)\n",
    "\n",
    "#main_reader = csv.reader(open(\"./Matlab_Files/joined_shots_updated2013.csv\",'r'),delimiter = ',')\n",
    "dataframe = pandas.read_csv(\"./Matlab_Files/joined_shots_updated2013.csv\",delimiter = ',',header =None)\n",
    "array = dataframe.values\n",
    "\n",
    "column_len = len(dataframe.columns)\n",
    "columns = dataframe.columns\n",
    "\n",
    "X = array[0:200961,0:30]\n",
    "Y = array[0:200961,31]\n",
    "\n",
    "\n",
    "# Check classification for various parameter settings.\n",
    "rng = check_random_state(0)\n",
    "X_train, X_test, y_train, y_test = train_test_split(X,\n",
    "                                                    Y,\n",
    "                                                    random_state=rng)"
   ]
  },
  {
   "cell_type": "code",
   "execution_count": 103,
   "metadata": {},
   "outputs": [],
   "source": [
    "def Stacking(model,train,y,test,n_fold):\n",
    "   folds=StratifiedKFold(n_splits=n_fold,random_state=1)\n",
    "   test_pred=np.empty((test.shape[0],1),float)\n",
    "   train_pred=np.empty((0,1),float)\n",
    "   for train_indices,val_indices in folds.split(train,y):\n",
    "      x_train,x_val=train[train_indices],train[val_indices]\n",
    "      y_train,y_val=y[train_indices],y[val_indices]\n",
    "\n",
    "      model.fit(X=x_train,y=y_train)\n",
    "      train_pred=np.append(train_pred,model.predict(x_val))\n",
    "      test_pred=np.append(test_pred,model.predict(test))\n",
    "   return test_pred.reshape(-1,1),train_pred\n"
   ]
  },
  {
   "cell_type": "code",
   "execution_count": 107,
   "metadata": {},
   "outputs": [],
   "source": [
    "model1 = DecisionTreeClassifier(random_state=1)\n",
    "\n",
    "test_pred1 ,train_pred1=Stacking(model=model1, train=X_train,y=y_train,test=X_test,n_fold=10)\n",
    "\n",
    "train_pred1=pandas.DataFrame(train_pred1)\n",
    "test_pred1=pandas.DataFrame(test_pred1)"
   ]
  },
  {
   "cell_type": "code",
   "execution_count": 125,
   "metadata": {},
   "outputs": [
    {
     "name": "stdout",
     "output_type": "stream",
     "text": [
      "0.5772823779193206\n"
     ]
    }
   ],
   "source": [
    "count=0\n",
    "\n",
    "for i in range(len(train_pred1)):\n",
    "                if train_pred1.values[i]==y_train[i]:\n",
    "                    count=count+1\n",
    "\n",
    "Decision_Tree_CCR = count/(len(y_train)) \n",
    "print(Decision_Tree_CCR)"
   ]
  },
  {
   "cell_type": "code",
   "execution_count": 126,
   "metadata": {},
   "outputs": [],
   "source": [
    "model2 = KNeighborsClassifier()\n",
    "\n",
    "test_pred2 ,train_pred2=Stacking(model=model2,train=X_train,y=y_train,test=X_test,n_fold=10)\n",
    "\n",
    "train_pred2=pandas.DataFrame(train_pred2)\n",
    "test_pred2=pandas.DataFrame(test_pred2)"
   ]
  },
  {
   "cell_type": "code",
   "execution_count": 127,
   "metadata": {},
   "outputs": [
    {
     "name": "stdout",
     "output_type": "stream",
     "text": [
      "0.5248473991507431\n"
     ]
    }
   ],
   "source": [
    "count=0\n",
    "\n",
    "for i in range(len(train_pred2)):\n",
    "                if train_pred2.values[i]==y_train[i]:\n",
    "                    count=count+1\n",
    "\n",
    "kNN_CCR = count/(len(y_train)) \n",
    "print(kNN_CCR)"
   ]
  },
  {
   "cell_type": "code",
   "execution_count": 128,
   "metadata": {},
   "outputs": [
    {
     "name": "stderr",
     "output_type": "stream",
     "text": [
      "C:\\Users\\mcokb\\Anaconda3\\lib\\site-packages\\sklearn\\discriminant_analysis.py:682: UserWarning: Variables are collinear\n",
      "  warnings.warn(\"Variables are collinear\")\n"
     ]
    }
   ],
   "source": [
    "model3 = QuadraticDiscriminantAnalysis()\n",
    "\n",
    "test_pred3 ,train_pred3=Stacking(model=model3,train=X_train,y=y_train,test=X_test,n_fold=10)\n",
    "\n",
    "train_pred3=pandas.DataFrame(train_pred3)\n",
    "test_pred3=pandas.DataFrame(test_pred3)"
   ]
  },
  {
   "cell_type": "code",
   "execution_count": 129,
   "metadata": {},
   "outputs": [
    {
     "name": "stdout",
     "output_type": "stream",
     "text": [
      "0.6077295647558386\n"
     ]
    }
   ],
   "source": [
    "count=0\n",
    "\n",
    "for i in range(len(train_pred3)):\n",
    "                if train_pred3.values[i]==y_train[i]:\n",
    "                    count=count+1\n",
    "\n",
    "QDA_CCR = count/(len(y_train)) \n",
    "print(QDA_CCR)"
   ]
  },
  {
   "cell_type": "code",
   "execution_count": 132,
   "metadata": {},
   "outputs": [],
   "source": [
    "model4 = GaussianNB()\n",
    "\n",
    "test_pred4 ,train_pred4=Stacking(model=model4,train=X_train,y=y_train,test=X_test,n_fold=10)\n",
    "\n",
    "train_pred4=pandas.DataFrame(train_pred4)\n",
    "test_pred4=pandas.DataFrame(test_pred4)"
   ]
  },
  {
   "cell_type": "code",
   "execution_count": 133,
   "metadata": {},
   "outputs": [
    {
     "name": "stdout",
     "output_type": "stream",
     "text": [
      "0.5955082271762208\n"
     ]
    }
   ],
   "source": [
    "count=0\n",
    "\n",
    "for i in range(len(train_pred4)):\n",
    "                if train_pred4.values[i]==y_train[i]:\n",
    "                    count=count+1\n",
    "\n",
    "NaiveBayes_CCR = count/(len(y_train)) \n",
    "print(NaiveBayes_CCR)"
   ]
  },
  {
   "cell_type": "code",
   "execution_count": 134,
   "metadata": {},
   "outputs": [],
   "source": [
    "temp=y_test\n",
    "for x in range(0, 10):\n",
    "    y_test=np.append(y_test,temp)\n"
   ]
  },
  {
   "cell_type": "code",
   "execution_count": 203,
   "metadata": {},
   "outputs": [],
   "source": [
    "#df = pandas.concat([train_pred1, train_pred2, train_pred3, train_pred4], axis=1)\n",
    "#df_test = pandas.concat([test_pred1, test_pred2, test_pred3, test_pred4], axis=1)\n",
    "\n",
    "#model = LogisticRegression(random_state=1)\n",
    "#model.fit(df,y_train)\n",
    "#model.score(df_test, y_test)\n",
    "\n",
    "#Manual Coefficients\n",
    "\n",
    "comb_pred=test_pred1.values;\n",
    "\n",
    "hit_rate_train=sum(y_train)/len(y_train)\n",
    "\n",
    "pred1_coef=Decision_Tree_CCR-hit_rate_train\n",
    "pred2_coef=kNN_CCR-hit_rate_train\n",
    "pred3_coef=QDA_CCR-hit_rate_train\n",
    "pred4_coef=NaiveBayes_CCR-hit_rate_train\n",
    "\n",
    "sum_coef=pred1_coef+pred2_coef+pred3_coef+pred4_coef\n",
    "\n",
    "\n",
    "for i in range(len(test_pred1)):\n",
    "    comb_pred[i]=(23.4*test_pred1.values[i]+7.5*test_pred2.values[i]+32.1*test_pred3.values[i]+28.5*test_pred4.values[i])/150\n",
    "    if comb_pred[i]>0.53:\n",
    "        comb_pred[i]=1\n",
    "    else:\n",
    "        comb_pred[i]=0\n",
    "\n"
   ]
  },
  {
   "cell_type": "code",
   "execution_count": 205,
   "metadata": {},
   "outputs": [],
   "source": [
    "#df = pandas.concat([train_pred1, train_pred2, train_pred3, train_pred4], axis=1)\n",
    "#df_test = pandas.concat([test_pred1, test_pred2, test_pred3, test_pred4], axis=1)\n",
    "\n",
    "#model = LogisticRegression(random_state=1)\n",
    "#model.fit(df,y_train)\n",
    "#model.score(df_test, y_test)\n",
    "\n",
    "#Automated Coefficients\n",
    "\n",
    "comb_pred=test_pred1.values;\n",
    "\n",
    "hit_rate_train=sum(y_train)/len(y_train)\n",
    "\n",
    "pred1_coef=Decision_Tree_CCR-hit_rate_train\n",
    "pred2_coef=kNN_CCR-hit_rate_train\n",
    "pred3_coef=QDA_CCR-hit_rate_train\n",
    "pred4_coef=NaiveBayes_CCR-hit_rate_train\n",
    "\n",
    "sum_coef=pred1_coef+pred2_coef+pred3_coef+pred4_coef\n",
    "\n",
    "\n",
    "for i in range(len(test_pred1)):\n",
    "    comb_pred[i]=(pred1_coef*test_pred1.values[i]+pred2_coef*test_pred2.values[i]+pred3_coef*test_pred3.values[i]+pred4_coef*test_pred4.values[i])/sum_coef\n",
    "    if comb_pred[i]>hit_rate_train:\n",
    "        comb_pred[i]=1\n",
    "    else:\n",
    "        comb_pred[i]=0\n",
    "\n"
   ]
  },
  {
   "cell_type": "code",
   "execution_count": 206,
   "metadata": {},
   "outputs": [
    {
     "name": "stdout",
     "output_type": "stream",
     "text": [
      "0.612842462964873\n"
     ]
    }
   ],
   "source": [
    "count=0\n",
    "\n",
    "for i in range(len(test_pred4)):\n",
    "                if comb_pred[i]==y_test[i]:\n",
    "                    count=count+1\n",
    "\n",
    "Final_CCR = count/(len(y_test)) \n",
    "print(Final_CCR)"
   ]
  },
  {
   "cell_type": "code",
   "execution_count": 150,
   "metadata": {},
   "outputs": [
    {
     "name": "stdout",
     "output_type": "stream",
     "text": [
      "[0.91803279]\n"
     ]
    }
   ],
   "source": [
    "a=(23.4*train_pred1.values[1]+7.5*train_pred2.values[1]+ 32.1*train_pred3.values[1]+ 28.5*train_pred4.values[1])/91.5  \n",
    "print(a)"
   ]
  },
  {
   "cell_type": "code",
   "execution_count": 179,
   "metadata": {},
   "outputs": [
    {
     "name": "stdout",
     "output_type": "stream",
     "text": [
      "0.4538813694267516\n"
     ]
    }
   ],
   "source": [
    "b=len(y_train)\n",
    "c=sum(y_train)\n",
    "print(c/b)\n"
   ]
  }
 ],
 "metadata": {
  "kernelspec": {
   "display_name": "Python 3",
   "language": "python",
   "name": "python3"
  },
  "language_info": {
   "codemirror_mode": {
    "name": "ipython",
    "version": 3
   },
   "file_extension": ".py",
   "mimetype": "text/x-python",
   "name": "python",
   "nbconvert_exporter": "python",
   "pygments_lexer": "ipython3",
   "version": "3.7.0"
  }
 },
 "nbformat": 4,
 "nbformat_minor": 2
}
