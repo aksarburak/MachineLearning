{
 "cells": [
  {
   "cell_type": "code",
   "execution_count": 1,
   "metadata": {},
   "outputs": [
    {
     "name": "stdout",
     "output_type": "stream",
     "text": [
      "Collecting nbastats\n",
      "  Downloading https://files.pythonhosted.org/packages/fe/d5/a7bcbfe630ab661270c2d68b29817e1d6e0ee7f47a1cc803d31d7471ee45/nbastats-1.1.0.zip\n",
      "Requirement already satisfied: pandas>=0.13 in /Applications/anaconda3/lib/python3.6/site-packages (from nbastats) (0.23.4)\n",
      "Requirement already satisfied: requests>=2.2.1 in /Applications/anaconda3/lib/python3.6/site-packages (from nbastats) (2.20.0)\n",
      "Requirement already satisfied: pytz>=2011k in /Applications/anaconda3/lib/python3.6/site-packages (from pandas>=0.13->nbastats) (2018.7)\n",
      "Requirement already satisfied: numpy>=1.9.0 in /Applications/anaconda3/lib/python3.6/site-packages (from pandas>=0.13->nbastats) (1.15.4)\n",
      "Requirement already satisfied: python-dateutil>=2.5.0 in /Applications/anaconda3/lib/python3.6/site-packages (from pandas>=0.13->nbastats) (2.7.5)\n",
      "Requirement already satisfied: certifi>=2017.4.17 in /Applications/anaconda3/lib/python3.6/site-packages (from requests>=2.2.1->nbastats) (2018.10.15)\n",
      "Requirement already satisfied: idna<2.8,>=2.5 in /Applications/anaconda3/lib/python3.6/site-packages (from requests>=2.2.1->nbastats) (2.7)\n",
      "Requirement already satisfied: chardet<3.1.0,>=3.0.2 in /Applications/anaconda3/lib/python3.6/site-packages (from requests>=2.2.1->nbastats) (3.0.4)\n",
      "Requirement already satisfied: urllib3<1.25,>=1.21.1 in /Applications/anaconda3/lib/python3.6/site-packages (from requests>=2.2.1->nbastats) (1.22)\n",
      "Requirement already satisfied: six>=1.5 in /Applications/anaconda3/lib/python3.6/site-packages (from python-dateutil>=2.5.0->pandas>=0.13->nbastats) (1.11.0)\n",
      "Building wheels for collected packages: nbastats\n",
      "  Running setup.py bdist_wheel for nbastats ... \u001b[?25ldone\n",
      "\u001b[?25h  Stored in directory: /Users/burakaksar/Library/Caches/pip/wheels/0b/c5/5f/f8488e6e7b69111ab742361e3bc9739f2d07e5f61769315d4a\n",
      "Successfully built nbastats\n",
      "Installing collected packages: nbastats\n",
      "Successfully installed nbastats-1.1.0\n",
      "Collecting py-goldsberry\n",
      "  Downloading https://files.pythonhosted.org/packages/9a/63/1deb38d99d49e4cd55a46588ce7618437fb2226cf3369805141f913bbfe2/py-goldsberry-1.0.1.zip\n",
      "Requirement already satisfied: requests>=2.7 in /Applications/anaconda3/lib/python3.6/site-packages (from py-goldsberry) (2.20.0)\n",
      "Requirement already satisfied: idna<2.8,>=2.5 in /Applications/anaconda3/lib/python3.6/site-packages (from requests>=2.7->py-goldsberry) (2.7)\n",
      "Requirement already satisfied: chardet<3.1.0,>=3.0.2 in /Applications/anaconda3/lib/python3.6/site-packages (from requests>=2.7->py-goldsberry) (3.0.4)\n",
      "Requirement already satisfied: certifi>=2017.4.17 in /Applications/anaconda3/lib/python3.6/site-packages (from requests>=2.7->py-goldsberry) (2018.10.15)\n",
      "Requirement already satisfied: urllib3<1.25,>=1.21.1 in /Applications/anaconda3/lib/python3.6/site-packages (from requests>=2.7->py-goldsberry) (1.22)\n",
      "Building wheels for collected packages: py-goldsberry\n",
      "  Running setup.py bdist_wheel for py-goldsberry ... \u001b[?25ldone\n",
      "\u001b[?25h  Stored in directory: /Users/burakaksar/Library/Caches/pip/wheels/5c/07/4e/6e9c292d61ac7336e543dd9a611132a48236cbc7a3a008e4fd\n",
      "Successfully built py-goldsberry\n",
      "Installing collected packages: py-goldsberry\n",
      "Successfully installed py-goldsberry-1.0.1\n"
     ]
    }
   ],
   "source": [
    "!pip install nbastats\n",
    "import nbastats.nbastats as nbastats\n",
    "!pip install py-goldsberry\n",
    "import goldsberry"
   ]
  },
  {
   "cell_type": "code",
   "execution_count": 14,
   "metadata": {},
   "outputs": [],
   "source": [
    "## Import a bunch of modules that may be helpful\n",
    "import numpy as np\n",
    "import scipy as sp\n",
    "import matplotlib as mpl\n",
    "import matplotlib.cm as cm\n",
    "import matplotlib.pyplot as plt\n",
    "import pandas as pd\n",
    "import os\n",
    "import time\n",
    "pd.set_option('display.width', 500)\n",
    "pd.set_option('display.max_columns', 100)\n",
    "pd.set_option('display.notebook_repr_html', True)\n",
    "import seaborn as sns\n",
    "import requests\n"
   ]
  },
  {
   "cell_type": "code",
   "execution_count": 39,
   "metadata": {},
   "outputs": [
    {
     "ename": "SyntaxError",
     "evalue": "invalid syntax (<ipython-input-39-a8c7eb531706>, line 4)",
     "output_type": "error",
     "traceback": [
      "\u001b[0;36m  File \u001b[0;32m\"<ipython-input-39-a8c7eb531706>\"\u001b[0;36m, line \u001b[0;32m4\u001b[0m\n\u001b[0;31m    print ec503reader.head()\u001b[0m\n\u001b[0m                    ^\u001b[0m\n\u001b[0;31mSyntaxError\u001b[0m\u001b[0;31m:\u001b[0m invalid syntax\n"
     ]
    }
   ],
   "source": [
    "import csv \n",
    "ec503reader = csv.reader(open(\"./Matlab_Files/joined_shots_updated2013.csv\"),delimiter = ',')\n",
    "\n",
    "print ec503reader.head()\n",
    "#for row in ec503reader:\n",
    "#    print (row)        "
   ]
  },
  {
   "cell_type": "code",
   "execution_count": null,
   "metadata": {},
   "outputs": [],
   "source": []
  }
 ],
 "metadata": {
  "kernelspec": {
   "display_name": "Python 3",
   "language": "python",
   "name": "python3"
  },
  "language_info": {
   "codemirror_mode": {
    "name": "ipython",
    "version": 3
   },
   "file_extension": ".py",
   "mimetype": "text/x-python",
   "name": "python",
   "nbconvert_exporter": "python",
   "pygments_lexer": "ipython3",
   "version": "3.6.6"
  },
  "varInspector": {
   "cols": {
    "lenName": 16,
    "lenType": 16,
    "lenVar": 40
   },
   "kernels_config": {
    "python": {
     "delete_cmd_postfix": "",
     "delete_cmd_prefix": "del ",
     "library": "var_list.py",
     "varRefreshCmd": "print(var_dic_list())"
    },
    "r": {
     "delete_cmd_postfix": ") ",
     "delete_cmd_prefix": "rm(",
     "library": "var_list.r",
     "varRefreshCmd": "cat(var_dic_list()) "
    }
   },
   "oldHeight": 310,
   "position": {
    "height": "40px",
    "left": "1081px",
    "right": "20px",
    "top": "115px",
    "width": "350px"
   },
   "types_to_exclude": [
    "module",
    "function",
    "builtin_function_or_method",
    "instance",
    "_Feature"
   ],
   "varInspector_section_display": "none",
   "window_display": true
  }
 },
 "nbformat": 4,
 "nbformat_minor": 2
}
