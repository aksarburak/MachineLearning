{
 "cells": [
  {
   "cell_type": "code",
   "execution_count": 2,
   "metadata": {},
   "outputs": [],
   "source": [
    "## Import a bunch of modules that may be helpful\n",
    "import numpy as np\n",
    "import scipy as sp\n",
    "import matplotlib as mpl\n",
    "import matplotlib.cm as cm\n",
    "import matplotlib.pyplot as plt\n",
    "import pandas\n",
    "import os\n",
    "import time\n",
    "import seaborn as sns\n",
    "import requests\n",
    "\n",
    "\n",
    "## Bagged Decision Trees for Classification\n",
    "from sklearn import model_selection\n",
    "from sklearn.ensemble import BaggingClassifier\n",
    "from sklearn.tree import DecisionTreeClassifier\n"
   ]
  },
  {
   "cell_type": "code",
   "execution_count": 59,
   "metadata": {},
   "outputs": [
    {
     "name": "stdout",
     "output_type": "stream",
     "text": [
      "{'', 'PTS', 'GAME_EVENT_ID', 'PERIOD', 'DRIBBLES', 'LOCATION', 'SHOT_TYPE', 'LOC_X', 'SHOT_CLOCK', 'SECONDS_REMAINING', 'CLOSEST_DEFENDER_PLAYER_ID', 'SHOT_MADE_FLAG', 'SHOT_DISTANCE', 'EVENT_TYPE', 'GAME_CLOCK', 'W', 'SHOT_ATTEMPTED_FLAG', 'GAME_ID', 'MATCHUP', 'LOC_Y', 'PTS_TYPE', 'GRID_TYPE', 'MINUTES_REMAINING', 'SHOT_ZONE_AREA', 'TOUCH_TIME', 'TEAM_ID', 'SHOT_DIST', 'SHOT_ZONE_RANGE', 'FGM', 'FINAL_MARGIN', 'SHOT_ZONE_BASIC', 'ACTION_TYPE', 'SHOT_RESULT', 'PLAYER_NAME', 'CLOSE_DEF_DIST', 'CLOSEST_DEFENDER', 'PLAYER_ID', 'SHOT_NUMBER'}\n",
      "[     0      1      2 ... 100479 100480 100481]\n",
      "[100482 100483 100484 ... 200960 200961 200962]\n",
      "[[ 0.0000e+00  2.0232e+05  1.9000e+00 ... -4.0000e+01  5.3000e+01\n",
      "   1.0000e+00]\n",
      " [ 1.0000e+00  2.0232e+05  3.2000e+00 ...  1.8200e+02  1.9500e+02\n",
      "   1.0000e+00]\n",
      " [ 2.0000e+00  2.0349e+05  3.5000e+00 ...  1.5900e+02  2.0600e+02\n",
      "   1.0000e+00]\n",
      " ...\n",
      " [ 4.0000e+00  2.0350e+05  7.0000e-01 ...  8.9000e+01  2.8000e+01\n",
      "   1.0000e+00]\n",
      " [ 5.0000e+00  2.5550e+03  1.3000e+00 ...  3.1000e+01  0.0000e+00\n",
      "   1.0000e+00]\n",
      " [ 6.0000e+00  2.0159e+05  1.3000e+00 ... -2.4000e+01  0.0000e+00\n",
      "   1.0000e+00]]\n",
      "[0. 1. 0. ... 0. 0. 1.]\n"
     ]
    }
   ],
   "source": [
    "import csv \n",
    "header_reader = csv.reader(open(\"./Matlab_Files/joined_shots_2013.csv\",'r'),delimiter = ',')\n",
    "headers = set(next(header_reader))\n",
    "print (headers)\n",
    "\n",
    "#How many headers we have after deleted duplicated ones \n",
    "#this does not match with the data that we are trying to use\n",
    "# There are two game id's \n",
    "\n",
    "\n",
    "#main_reader = csv.reader(open(\"./Matlab_Files/joined_shots_updated2013.csv\",'r'),delimiter = ',')\n",
    "dataframe = pandas.read_csv(\"./Matlab_Files/joined_shots_updated2013.csv\",delimiter = ',',header =None)\n",
    "array = dataframe.values\n",
    "\n",
    "column_len = len(dataframe.columns)\n",
    "columns = dataframe.columns\n",
    "\n",
    "X = array[:,0:35]\n",
    "Y = array[:,35]\n",
    "\n",
    "\n",
    "seed = 5\n",
    "kfold = model_selection.KFold(n_splits=2, random_state=seed)\n",
    "\n",
    "# for train_indices, test_indices in kfold.split(X):\n",
    "#       print('Train: %s | test: %s' % (train_indices, test_indices))\n",
    "\n",
    "# print(train_indices)        \n",
    "# print(test_indices)    \n",
    "\n",
    "\n",
    "# for train_label_indices, test_label_indices in kfold.split(Y):\n",
    "#       print('Train Label: %s | test label: %s' % (train_indices, test_indices))\n",
    "\n",
    "print(train_label_indices)        \n",
    "print(test_label_indices)    \n",
    "\n",
    "whatis = X[train_indices,:]\n",
    "print(whatis)\n",
    "\n",
    "whatis2 = Y[train_label_indices]\n",
    "print(whatis2)\n",
    "\n",
    "    "
   ]
  },
  {
   "cell_type": "code",
   "execution_count": 53,
   "metadata": {},
   "outputs": [],
   "source": [
    "url = \"https://raw.githubusercontent.com/jbrownlee/Datasets/master/pima-indians-diabetes.data.csv\"\n",
    "names = ['preg', 'plas', 'pres', 'skin', 'test', 'mass', 'pedi', 'age', 'class']\n",
    "dataframe = pandas.read_csv(url, names=names)\n",
    "array = dataframe.values\n",
    "X = array[:,0:8]\n",
    "Y = array[:,8]\n",
    "\n"
   ]
  },
  {
   "cell_type": "code",
   "execution_count": 60,
   "metadata": {},
   "outputs": [
    {
     "name": "stdout",
     "output_type": "stream",
     "text": [
      "[1. 1.]\n",
      "1.0\n"
     ]
    }
   ],
   "source": [
    "##\n",
    "\n",
    "cart = DecisionTreeClassifier()\n",
    "num_trees = 10\n",
    "\n",
    "model = BaggingClassifier(base_estimator=cart, n_estimators=num_trees, random_state=seed)\n",
    "\n",
    "\n",
    "results = model_selection.cross_val_score(model, X, Y, cv=kfold)\n",
    "print(results)\n",
    "print(results.mean())\n"
   ]
  },
  {
   "cell_type": "code",
   "execution_count": 56,
   "metadata": {},
   "outputs": [
    {
     "name": "stdout",
     "output_type": "stream",
     "text": [
      "[1. 1. 1. 1. 1. 1. 1. 1. 1. 1.]\n"
     ]
    }
   ],
   "source": []
  }
 ],
 "metadata": {
  "kernelspec": {
   "display_name": "Python 3",
   "language": "python",
   "name": "python3"
  },
  "language_info": {
   "codemirror_mode": {
    "name": "ipython",
    "version": 3
   },
   "file_extension": ".py",
   "mimetype": "text/x-python",
   "name": "python",
   "nbconvert_exporter": "python",
   "pygments_lexer": "ipython3",
   "version": "3.6.6"
  },
  "varInspector": {
   "cols": {
    "lenName": 16,
    "lenType": 16,
    "lenVar": 40
   },
   "kernels_config": {
    "python": {
     "delete_cmd_postfix": "",
     "delete_cmd_prefix": "del ",
     "library": "var_list.py",
     "varRefreshCmd": "print(var_dic_list())"
    },
    "r": {
     "delete_cmd_postfix": ") ",
     "delete_cmd_prefix": "rm(",
     "library": "var_list.r",
     "varRefreshCmd": "cat(var_dic_list()) "
    }
   },
   "oldHeight": 308,
   "position": {
    "height": "40px",
    "left": "931px",
    "right": "20px",
    "top": "-1px",
    "width": "508px"
   },
   "types_to_exclude": [
    "module",
    "function",
    "builtin_function_or_method",
    "instance",
    "_Feature"
   ],
   "varInspector_section_display": "none",
   "window_display": true
  }
 },
 "nbformat": 4,
 "nbformat_minor": 2
}
